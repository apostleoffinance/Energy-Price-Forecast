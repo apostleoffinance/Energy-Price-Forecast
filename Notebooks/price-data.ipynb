{
 "cells": [
  {
   "cell_type": "code",
   "execution_count": 1,
   "metadata": {},
   "outputs": [
    {
     "name": "stdout",
     "output_type": "stream",
     "text": [
      "             Start date             End date  Germany/Luxembourg [€/MWh] Original resolutions  ∅ DE/LU neighbours [€/MWh] Original resolutions  Belgium [€/MWh] Original resolutions  Denmark 1 [€/MWh] Original resolutions  Denmark 2 [€/MWh] Original resolutions  France [€/MWh] Original resolutions  \\\n",
      "0  Jan 1, 2023 12:00 AM  Jan 1, 2023 1:00 AM                                            -5.17                                            13.85                                 -4.39                                    2.01                                    2.01                                 0.00   \n",
      "1   Jan 1, 2023 1:00 AM  Jan 1, 2023 2:00 AM                                            -1.07                                             9.79                                 -1.75                                    1.38                                    1.38                                -0.10   \n",
      "2   Jan 1, 2023 2:00 AM  Jan 1, 2023 3:00 AM                                            -1.47                                             8.91                                 -1.46                                    0.09                                    0.09                                -1.33   \n",
      "3   Jan 1, 2023 3:00 AM  Jan 1, 2023 4:00 AM                                            -5.08                                             6.58                                 -5.27                                    0.08                                    0.08                                -4.08   \n",
      "4   Jan 1, 2023 4:00 AM  Jan 1, 2023 5:00 AM                                            -4.49                                             5.42                                 -4.41                                    0.05                                    0.05                                -4.16   \n",
      "\n",
      "   Netherlands [€/MWh] Original resolutions  Norway 2 [€/MWh] Original resolutions  Austria [€/MWh] Original resolutions  Poland [€/MWh] Original resolutions  Sweden 4 [€/MWh] Original resolutions  Switzerland [€/MWh] Original resolutions  Czech Republic [€/MWh] Original resolutions  \\\n",
      "0                                     -3.61                                 119.32                                 12.06                                18.09                                   2.01                                      0.03                                         4.84   \n",
      "1                                     -1.46                                 108.83                                 -0.10                                 5.75                                   1.38                                     -7.25                                        -0.35   \n",
      "2                                     -1.52                                 102.39                                 -0.66                                 5.27                                   0.09                                     -3.99                                        -0.97   \n",
      "3                                     -5.00                                  92.36                                 -1.99                                 5.74                                   0.08                                     -7.71                                        -1.93   \n",
      "4                                     -4.60                                  82.66                                 -2.42                                 5.22                                   0.05                                     -9.71                                        -3.07   \n",
      "\n",
      "  DE/AT/LU [€/MWh] Original resolutions Northern Italy [€/MWh] Original resolutions Slovenia [€/MWh] Original resolutions  Hungary [€/MWh] Original resolutions  \n",
      "0                                     -                                      195.90                                 13.31                                 19.76  \n",
      "1                                     -                                      191.09                                 -0.07                                  0.19  \n",
      "2                                     -                                      187.95                                 -0.47                                  0.07  \n",
      "3                                     -                                      187.82                                 -1.56                                  0.01  \n",
      "4                                     -                                      187.74                                 -1.94                                 -0.77  \n"
     ]
    }
   ],
   "source": [
    "import pandas as pd\n",
    "import matplotlib.pyplot as plt\n",
    "import seaborn as sns\n",
    "\n",
    "\n",
    "# Adjust display settings for wider output\n",
    "pd.set_option('display.width', 300)  # Increase the display width\n",
    "pd.set_option('display.max_columns', None)  # Show all columns\n",
    "pd.set_option('display.max_rows', 10)  # Limit rows displayed for clarity\n",
    "\n",
    "\n",
    "prices = pd.read_csv(\"/Users/olaoluwatunmise/Germany-Energy-Price-Forecast/PowerCast-Datasets/Electricity-Price/Day-ahead_prices_202301010000_202503050000_Hour.csv\", delimiter=';')\n",
    "\n",
    "print(prices.head())"
   ]
  },
  {
   "cell_type": "markdown",
   "metadata": {},
   "source": [
    "# Exploratory Data Analysis"
   ]
  },
  {
   "cell_type": "code",
   "execution_count": 2,
   "metadata": {},
   "outputs": [
    {
     "name": "stdout",
     "output_type": "stream",
     "text": [
      "           Start date  Germany/Luxembourg [€/MWh] Original resolutions  ∅ DE/LU neighbours [€/MWh] Original resolutions  Belgium [€/MWh] Original resolutions  Denmark 1 [€/MWh] Original resolutions  Denmark 2 [€/MWh] Original resolutions  France [€/MWh] Original resolutions  \\\n",
      "0 2023-01-01 00:00:00                                            -5.17                                            13.85                                 -4.39                                    2.01                                    2.01                                 0.00   \n",
      "1 2023-01-01 01:00:00                                            -1.07                                             9.79                                 -1.75                                    1.38                                    1.38                                -0.10   \n",
      "2 2023-01-01 02:00:00                                            -1.47                                             8.91                                 -1.46                                    0.09                                    0.09                                -1.33   \n",
      "3 2023-01-01 03:00:00                                            -5.08                                             6.58                                 -5.27                                    0.08                                    0.08                                -4.08   \n",
      "4 2023-01-01 04:00:00                                            -4.49                                             5.42                                 -4.41                                    0.05                                    0.05                                -4.16   \n",
      "\n",
      "   Netherlands [€/MWh] Original resolutions  Norway 2 [€/MWh] Original resolutions  Austria [€/MWh] Original resolutions  Poland [€/MWh] Original resolutions  Sweden 4 [€/MWh] Original resolutions  Switzerland [€/MWh] Original resolutions  Czech Republic [€/MWh] Original resolutions  \\\n",
      "0                                     -3.61                                 119.32                                 12.06                                18.09                                   2.01                                      0.03                                         4.84   \n",
      "1                                     -1.46                                 108.83                                 -0.10                                 5.75                                   1.38                                     -7.25                                        -0.35   \n",
      "2                                     -1.52                                 102.39                                 -0.66                                 5.27                                   0.09                                     -3.99                                        -0.97   \n",
      "3                                     -5.00                                  92.36                                 -1.99                                 5.74                                   0.08                                     -7.71                                        -1.93   \n",
      "4                                     -4.60                                  82.66                                 -2.42                                 5.22                                   0.05                                     -9.71                                        -3.07   \n",
      "\n",
      "   DE/AT/LU [€/MWh] Original resolutions  Northern Italy [€/MWh] Original resolutions  Slovenia [€/MWh] Original resolutions  Hungary [€/MWh] Original resolutions  \n",
      "0                                    NaN                                       195.90                                  13.31                                 19.76  \n",
      "1                                    NaN                                       191.09                                  -0.07                                  0.19  \n",
      "2                                    NaN                                       187.95                                  -0.47                                  0.07  \n",
      "3                                    NaN                                       187.82                                  -1.56                                  0.01  \n",
      "4                                    NaN                                       187.74                                  -1.94                                 -0.77  \n"
     ]
    }
   ],
   "source": [
    "# Convert Start date to datetime\n",
    "prices[\"Start date\"] = pd.to_datetime(prices[\"Start date\"], format=\"%b %d, %Y %I:%M %p\")\n",
    "prices.set_index(\"Start date\", inplace=True)\n",
    "\n",
    "\n",
    "# Drop the \"End date\" column since it's not needed for time series analysis\n",
    "prices.drop(columns=[\"End date\"], inplace=True)\n",
    "\n",
    "# Convert all remaining columns to numeric (in case any are still strings)\n",
    "prices = prices.apply(pd.to_numeric, errors='coerce')\n",
    "\n",
    "# Reset index to make \"Start date\" a column again\n",
    "prices.reset_index(inplace=True)\n",
    "\n",
    "print(prices.head())"
   ]
  },
  {
   "cell_type": "markdown",
   "metadata": {},
   "source": [
    "### Clean the column names"
   ]
  },
  {
   "cell_type": "code",
   "execution_count": 3,
   "metadata": {},
   "outputs": [
    {
     "name": "stdout",
     "output_type": "stream",
     "text": [
      "Index(['start_date', 'germanyluxembourg', 'delu_neighbours', 'belgium', 'denmark_1', 'denmark_2', 'france', 'netherlands', 'norway_2', 'austria', 'poland', 'sweden_4', 'switzerland', 'czech_republic', 'deatlu', 'northern_italy', 'slovenia', 'hungary'], dtype='object')\n",
      "               start_date  germanyluxembourg  delu_neighbours  belgium  denmark_1  denmark_2  france  netherlands  norway_2  austria  poland  sweden_4  switzerland  czech_republic  deatlu  northern_italy  slovenia  hungary\n",
      "0     2023-01-01 00:00:00              -5.17            13.85    -4.39       2.01       2.01    0.00        -3.61    119.32    12.06   18.09      2.01         0.03            4.84     NaN          195.90     13.31    19.76\n",
      "1     2023-01-01 01:00:00              -1.07             9.79    -1.75       1.38       1.38   -0.10        -1.46    108.83    -0.10    5.75      1.38        -7.25           -0.35     NaN          191.09     -0.07     0.19\n",
      "2     2023-01-01 02:00:00              -1.47             8.91    -1.46       0.09       0.09   -1.33        -1.52    102.39    -0.66    5.27      0.09        -3.99           -0.97     NaN          187.95     -0.47     0.07\n",
      "3     2023-01-01 03:00:00              -5.08             6.58    -5.27       0.08       0.08   -4.08        -5.00     92.36    -1.99    5.74      0.08        -7.71           -1.93     NaN          187.82     -1.56     0.01\n",
      "4     2023-01-01 04:00:00              -4.49             5.42    -4.41       0.05       0.05   -4.16        -4.60     82.66    -2.42    5.22      0.05        -9.71           -3.07     NaN          187.74     -1.94    -0.77\n",
      "...                   ...                ...              ...      ...        ...        ...     ...          ...       ...      ...     ...       ...          ...             ...     ...             ...       ...      ...\n",
      "19051 2025-03-04 19:00:00             163.67           117.02   164.18      42.31      42.30  164.93       163.95     35.06   170.59  158.83     20.41       168.09          156.59     NaN             NaN    186.20   238.11\n",
      "19052 2025-03-04 20:00:00             134.13            95.09   134.28      29.85      29.85  132.00       133.40     35.34   149.92  118.29      6.51       151.00          125.55     NaN             NaN    164.22   195.69\n",
      "19053 2025-03-04 21:00:00             114.38            82.97   115.83      25.33      25.33  117.62       114.85     34.39   134.44   92.04      4.77       143.79          104.29     NaN             NaN    148.78   173.74\n",
      "19054 2025-03-04 22:00:00             114.41            81.98   114.57      25.52      25.52  113.45       114.29     32.20   130.32   97.09      3.41       138.18          107.28     NaN             NaN    140.00   155.10\n",
      "19055 2025-03-04 23:00:00             106.81            76.68   107.82      20.69      20.10  109.04       107.29     29.75   121.23   90.64      1.19       135.69          100.01     NaN             NaN    130.18   144.41\n",
      "\n",
      "[19056 rows x 18 columns]\n"
     ]
    }
   ],
   "source": [
    "# Clean the column names\n",
    "prices.columns = prices.columns.str.replace(r'[^\\w\\s]', '', regex=True)  # Remove special characters\n",
    "prices.columns = prices.columns.str.strip()  # Remove leading/trailing spaces\n",
    "prices.columns = prices.columns.str.replace('Original resolutions', '', regex=False)  # Remove redundant words\n",
    "# Remove \"MWh\" from the column names\n",
    "prices.columns = prices.columns.str.replace(' MWh ', '', regex=False)\n",
    "# Replace spaces between words with underscores for consistency\n",
    "prices.columns = prices.columns.str.replace(' ', '_', regex=False)\n",
    "\n",
    "# Replace multiple consecutive underscores with a single one (in case multiple spaces exist)\n",
    "prices.columns = prices.columns.str.replace('_+', '_', regex=True)\n",
    "\n",
    "# Ensure all column names are lowercase (optional, for consistency)\n",
    "prices.columns = prices.columns.str.lower()\n",
    "\n",
    "\n",
    "print(prices.columns)\n",
    "print(prices)"
   ]
  },
  {
   "cell_type": "code",
   "execution_count": 4,
   "metadata": {},
   "outputs": [
    {
     "name": "stdout",
     "output_type": "stream",
     "text": [
      "Index(['start_date', 'germanyluxembourg', 'delu_neighbours', 'belgium', 'denmark_1', 'france', 'netherlands', 'norway_2', 'austria', 'poland', 'sweden_4', 'switzerland', 'czech_republic', 'northern_italy', 'slovenia', 'hungary'], dtype='object')\n",
      "               start_date  germanyluxembourg  delu_neighbours  belgium  denmark_1  france  netherlands  norway_2  austria  poland  sweden_4  switzerland  czech_republic  northern_italy  slovenia  hungary\n",
      "0     2023-01-01 00:00:00              -5.17            13.85    -4.39       2.01    0.00        -3.61    119.32    12.06   18.09      2.01         0.03            4.84          195.90     13.31    19.76\n",
      "1     2023-01-01 01:00:00              -1.07             9.79    -1.75       1.38   -0.10        -1.46    108.83    -0.10    5.75      1.38        -7.25           -0.35          191.09     -0.07     0.19\n",
      "2     2023-01-01 02:00:00              -1.47             8.91    -1.46       0.09   -1.33        -1.52    102.39    -0.66    5.27      0.09        -3.99           -0.97          187.95     -0.47     0.07\n",
      "3     2023-01-01 03:00:00              -5.08             6.58    -5.27       0.08   -4.08        -5.00     92.36    -1.99    5.74      0.08        -7.71           -1.93          187.82     -1.56     0.01\n",
      "4     2023-01-01 04:00:00              -4.49             5.42    -4.41       0.05   -4.16        -4.60     82.66    -2.42    5.22      0.05        -9.71           -3.07          187.74     -1.94    -0.77\n",
      "...                   ...                ...              ...      ...        ...     ...          ...       ...      ...     ...       ...          ...             ...             ...       ...      ...\n",
      "19051 2025-03-04 19:00:00             163.67           117.02   164.18      42.31  164.93       163.95     35.06   170.59  158.83     20.41       168.09          156.59             NaN    186.20   238.11\n",
      "19052 2025-03-04 20:00:00             134.13            95.09   134.28      29.85  132.00       133.40     35.34   149.92  118.29      6.51       151.00          125.55             NaN    164.22   195.69\n",
      "19053 2025-03-04 21:00:00             114.38            82.97   115.83      25.33  117.62       114.85     34.39   134.44   92.04      4.77       143.79          104.29             NaN    148.78   173.74\n",
      "19054 2025-03-04 22:00:00             114.41            81.98   114.57      25.52  113.45       114.29     32.20   130.32   97.09      3.41       138.18          107.28             NaN    140.00   155.10\n",
      "19055 2025-03-04 23:00:00             106.81            76.68   107.82      20.69  109.04       107.29     29.75   121.23   90.64      1.19       135.69          100.01             NaN    130.18   144.41\n",
      "\n",
      "[19056 rows x 16 columns]\n"
     ]
    }
   ],
   "source": [
    "prices = prices.drop(columns=['denmark_2','deatlu'])\n",
    "\n",
    "print(prices.columns)\n",
    "print(prices)"
   ]
  },
  {
   "cell_type": "code",
   "execution_count": 5,
   "metadata": {},
   "outputs": [
    {
     "name": "stdout",
     "output_type": "stream",
     "text": [
      "start_date           0\n",
      "germanyluxembourg    0\n",
      "delu_neighbours      0\n",
      "belgium              0\n",
      "denmark_1            0\n",
      "                    ..\n",
      "switzerland          0\n",
      "czech_republic       0\n",
      "northern_italy       0\n",
      "slovenia             1\n",
      "hungary              0\n",
      "Length: 16, dtype: int64\n",
      "               start_date  germanyluxembourg  delu_neighbours  belgium  denmark_1  france  netherlands  norway_2  austria  poland  sweden_4  switzerland  czech_republic  northern_italy  slovenia  hungary\n",
      "14562 2024-08-29 19:00:00             227.49           209.27   164.09     219.84  128.18       219.84     39.01   197.76  407.42    222.03       126.34           350.0           245.0       NaN   736.22\n",
      "               start_date  germanyluxembourg  delu_neighbours  belgium  denmark_1  france  netherlands  norway_2  austria  poland  sweden_4  switzerland  czech_republic  northern_italy  slovenia  hungary\n",
      "0     2023-01-01 00:00:00              -5.17            13.85    -4.39       2.01    0.00        -3.61    119.32    12.06   18.09      2.01         0.03            4.84      195.900000     13.31    19.76\n",
      "1     2023-01-01 01:00:00              -1.07             9.79    -1.75       1.38   -0.10        -1.46    108.83    -0.10    5.75      1.38        -7.25           -0.35      191.090000     -0.07     0.19\n",
      "2     2023-01-01 02:00:00              -1.47             8.91    -1.46       0.09   -1.33        -1.52    102.39    -0.66    5.27      0.09        -3.99           -0.97      187.950000     -0.47     0.07\n",
      "3     2023-01-01 03:00:00              -5.08             6.58    -5.27       0.08   -4.08        -5.00     92.36    -1.99    5.74      0.08        -7.71           -1.93      187.820000     -1.56     0.01\n",
      "4     2023-01-01 04:00:00              -4.49             5.42    -4.41       0.05   -4.16        -4.60     82.66    -2.42    5.22      0.05        -9.71           -3.07      187.740000     -1.94    -0.77\n",
      "...                   ...                ...              ...      ...        ...     ...          ...       ...      ...     ...       ...          ...             ...             ...       ...      ...\n",
      "19051 2025-03-04 19:00:00             163.67           117.02   164.18      42.31  164.93       163.95     35.06   170.59  158.83     20.41       168.09          156.59      117.580087    186.20   238.11\n",
      "19052 2025-03-04 20:00:00             134.13            95.09   134.28      29.85  132.00       133.40     35.34   149.92  118.29      6.51       151.00          125.55      117.580087    164.22   195.69\n",
      "19053 2025-03-04 21:00:00             114.38            82.97   115.83      25.33  117.62       114.85     34.39   134.44   92.04      4.77       143.79          104.29      117.580087    148.78   173.74\n",
      "19054 2025-03-04 22:00:00             114.41            81.98   114.57      25.52  113.45       114.29     32.20   130.32   97.09      3.41       138.18          107.28      117.580087    140.00   155.10\n",
      "19055 2025-03-04 23:00:00             106.81            76.68   107.82      20.69  109.04       107.29     29.75   121.23   90.64      1.19       135.69          100.01      117.580087    130.18   144.41\n",
      "\n",
      "[19056 rows x 16 columns]\n"
     ]
    }
   ],
   "source": [
    "#Fill with the Column Mean\n",
    "prices[\"northern_italy\"] = prices[\"northern_italy\"].fillna(prices[\"northern_italy\"].mean())\n",
    "\n",
    "print(prices.isna().sum())  # Shows count of NaN values per column\n",
    "print(prices[prices.isna().any(axis=1)])  # Displays rows with NaN values\n",
    "#prices[\"northern_italy\"] = prices[\"northern_italy\"].fillna(prices[\"northern_italy\"].mean())\n",
    "\n",
    "print(prices)"
   ]
  },
  {
   "cell_type": "code",
   "execution_count": 6,
   "metadata": {},
   "outputs": [
    {
     "name": "stdout",
     "output_type": "stream",
     "text": [
      "Index(['start_date', 'germany'], dtype='object')\n",
      "               start_date  germany\n",
      "0     2023-01-01 00:00:00    -5.17\n",
      "1     2023-01-01 01:00:00    -1.07\n",
      "2     2023-01-01 02:00:00    -1.47\n",
      "3     2023-01-01 03:00:00    -5.08\n",
      "4     2023-01-01 04:00:00    -4.49\n",
      "...                   ...      ...\n",
      "19051 2025-03-04 19:00:00   163.67\n",
      "19052 2025-03-04 20:00:00   134.13\n",
      "19053 2025-03-04 21:00:00   114.38\n",
      "19054 2025-03-04 22:00:00   114.41\n",
      "19055 2025-03-04 23:00:00   106.81\n",
      "\n",
      "[19056 rows x 2 columns]\n"
     ]
    }
   ],
   "source": [
    "# Create a copy of the orginal dataframe to preserve it\n",
    "germany_data = prices[['start_date', 'germanyluxembourg']].copy()\n",
    "\n",
    "# Rename the column \n",
    "germany_data = germany_data.rename(columns={\"germanyluxembourg\": \"germany\"})\n",
    "\n",
    "germany_prices = germany_data[[\"start_date\", \"germany\"]]\n",
    "\n",
    "print(germany_prices.columns)\n",
    "print(germany_prices)"
   ]
  }
 ],
 "metadata": {
  "kernelspec": {
   "display_name": "germany-energy",
   "language": "python",
   "name": "python3"
  },
  "language_info": {
   "codemirror_mode": {
    "name": "ipython",
    "version": 3
   },
   "file_extension": ".py",
   "mimetype": "text/x-python",
   "name": "python",
   "nbconvert_exporter": "python",
   "pygments_lexer": "ipython3",
   "version": "3.12.2"
  }
 },
 "nbformat": 4,
 "nbformat_minor": 2
}
