{
 "cells": [
  {
   "cell_type": "code",
   "execution_count": 13,
   "metadata": {},
   "outputs": [
    {
     "name": "stdout",
     "output_type": "stream",
     "text": [
      "             Start date              End date Total (grid load) [MWh] Original resolutions Residual load [MWh] Original resolutions Hydro pumped storage [MWh] Original resolutions\n",
      "0  Jan 1, 2023 12:00 AM  Jan 1, 2023 12:15 AM                                     9,673.00                                 1,842.50                                          494.00\n",
      "1  Jan 1, 2023 12:15 AM  Jan 1, 2023 12:30 AM                                     9,593.50                                 1,691.50                                          502.50\n",
      "2  Jan 1, 2023 12:30 AM  Jan 1, 2023 12:45 AM                                     9,562.00                                 1,442.50                                          561.00\n",
      "3  Jan 1, 2023 12:45 AM   Jan 1, 2023 1:00 AM                                     9,517.50                                 1,598.50                                          519.25\n",
      "4   Jan 1, 2023 1:00 AM   Jan 1, 2023 1:15 AM                                     9,433.25                                 1,325.50                                          301.00\n"
     ]
    }
   ],
   "source": [
    "import pandas as pd\n",
    "import numpy as np\n",
    "import matplotlib.pyplot as plt\n",
    "import seaborn as sns\n",
    "\n",
    "\n",
    "# Adjust display settings for wider output\n",
    "pd.set_option('display.width', 300)  # Increase the display width\n",
    "pd.set_option('display.max_columns', None)  # Show all columns\n",
    "pd.set_option('display.max_rows', 10)  # Limit rows displayed for clarity\n",
    "\n",
    "\n",
    "consumption = pd.read_csv(\"/Users/olaoluwatunmise/Germany-Energy-Price-Forecast/PowerCast-Datasets/Consumption/Actual_consumption_202301010000_202503050000_Quarterhour.csv\", delimiter=';')\n",
    "\n",
    "print(consumption.head())"
   ]
  },
  {
   "cell_type": "markdown",
   "metadata": {},
   "source": [
    "# Exploratory Data Analysis"
   ]
  },
  {
   "cell_type": "markdown",
   "metadata": {},
   "source": [
    "### Clean the column names"
   ]
  },
  {
   "cell_type": "code",
   "execution_count": 14,
   "metadata": {},
   "outputs": [
    {
     "name": "stdout",
     "output_type": "stream",
     "text": [
      "Index(['start_date', 'end_date', 'total_grid_load', 'residual_load', 'hydro_pumped_storage'], dtype='object')\n",
      "                 start_date              end_date total_grid_load residual_load hydro_pumped_storage\n",
      "0      Jan 1, 2023 12:00 AM  Jan 1, 2023 12:15 AM        9,673.00      1,842.50               494.00\n",
      "1      Jan 1, 2023 12:15 AM  Jan 1, 2023 12:30 AM        9,593.50      1,691.50               502.50\n",
      "2      Jan 1, 2023 12:30 AM  Jan 1, 2023 12:45 AM        9,562.00      1,442.50               561.00\n",
      "3      Jan 1, 2023 12:45 AM   Jan 1, 2023 1:00 AM        9,517.50      1,598.50               519.25\n",
      "4       Jan 1, 2023 1:00 AM   Jan 1, 2023 1:15 AM        9,433.25      1,325.50               301.00\n",
      "...                     ...                   ...             ...           ...                  ...\n",
      "76219  Mar 4, 2025 10:45 PM  Mar 4, 2025 11:00 PM               -             -                    -\n",
      "76220  Mar 4, 2025 11:00 PM  Mar 4, 2025 11:15 PM               -             -                    -\n",
      "76221  Mar 4, 2025 11:15 PM  Mar 4, 2025 11:30 PM               -             -                    -\n",
      "76222  Mar 4, 2025 11:30 PM  Mar 4, 2025 11:45 PM               -             -                    -\n",
      "76223  Mar 4, 2025 11:45 PM  Mar 5, 2025 12:00 AM               -             -                    -\n",
      "\n",
      "[76224 rows x 5 columns]\n"
     ]
    }
   ],
   "source": [
    "# Clean the column names\n",
    "consumption.columns = consumption.columns.str.replace(r'[^\\w\\s]', '', regex=True)  # Remove special characters\n",
    "consumption.columns = consumption.columns.str.strip()  # Remove leading/trailing spaces\n",
    "consumption.columns = consumption.columns.str.replace('Original resolutions', '', regex=False)  # Remove redundant words\n",
    "# Remove \"MWh\" from the column names\n",
    "consumption.columns = consumption.columns.str.replace(' MWh ', '', regex=False)\n",
    "# Replace spaces between words with underscores for consistency\n",
    "consumption.columns = consumption.columns.str.replace(' ', '_', regex=False)\n",
    "\n",
    "# Replace multiple consecutive underscores with a single one (in case multiple spaces exist)\n",
    "consumption.columns = consumption.columns.str.replace('_+', '_', regex=True)\n",
    "\n",
    "# Ensure all column names are lowercase (optional, for consistency)\n",
    "consumption.columns = consumption.columns.str.lower()\n",
    "\n",
    "#new_consumption = consumption\n",
    "\n",
    "print(consumption.columns)\n",
    "print(consumption)"
   ]
  },
  {
   "cell_type": "code",
   "execution_count": 15,
   "metadata": {},
   "outputs": [
    {
     "name": "stdout",
     "output_type": "stream",
     "text": [
      "start_date              0\n",
      "end_date                0\n",
      "total_grid_load         0\n",
      "residual_load           0\n",
      "hydro_pumped_storage    0\n",
      "dtype: int64\n",
      "                  start_date              end_date total_grid_load residual_load hydro_pumped_storage\n",
      "count                  76224                 76224           76224         76224                76224\n",
      "unique                 76216                 76214           31683         40596                 6366\n",
      "top     Oct 29, 2023 2:30 AM  Oct 29, 2023 2:45 AM               -             -                 1.25\n",
      "freq                       2                     2              17            17                 1150\n",
      "start_date              object\n",
      "end_date                object\n",
      "total_grid_load         object\n",
      "residual_load           object\n",
      "hydro_pumped_storage    object\n",
      "dtype: object\n"
     ]
    }
   ],
   "source": [
    "print(consumption.isna().sum())\n",
    "\n",
    "print(consumption.describe())\n",
    "\n",
    "print(consumption.dtypes)"
   ]
  },
  {
   "cell_type": "code",
   "execution_count": 16,
   "metadata": {},
   "outputs": [
    {
     "name": "stdout",
     "output_type": "stream",
     "text": [
      "Rows with '-' in total_grid_load: 17\n",
      "Rows with '-' in residual_load: 17\n",
      "Rows with '-' in hydro_pumped_storage: 17\n"
     ]
    }
   ],
   "source": [
    "# Load raw data\n",
    "#consumption = pd.read_csv(\"Datasets/Actual_consumption_Quarterhour.csv\")\n",
    "print(\"Rows with '-' in total_grid_load:\", (consumption[\"total_grid_load\"] == \"-\").sum())\n",
    "print(\"Rows with '-' in residual_load:\", (consumption[\"residual_load\"] == \"-\").sum())\n",
    "print(\"Rows with '-' in hydro_pumped_storage:\", (consumption[\"hydro_pumped_storage\"] == \"-\").sum())\n",
    "\n"
   ]
  },
  {
   "cell_type": "code",
   "execution_count": 17,
   "metadata": {},
   "outputs": [
    {
     "name": "stdout",
     "output_type": "stream",
     "text": [
      "                 start_date              end_date  total_grid_load  residual_load  hydro_pumped_storage\n",
      "0      Jan 1, 2023 12:00 AM  Jan 1, 2023 12:15 AM              NaN            NaN                494.00\n",
      "1      Jan 1, 2023 12:15 AM  Jan 1, 2023 12:30 AM              NaN            NaN                502.50\n",
      "2      Jan 1, 2023 12:30 AM  Jan 1, 2023 12:45 AM              NaN            NaN                561.00\n",
      "3      Jan 1, 2023 12:45 AM   Jan 1, 2023 1:00 AM              NaN            NaN                519.25\n",
      "4       Jan 1, 2023 1:00 AM   Jan 1, 2023 1:15 AM              NaN            NaN                301.00\n",
      "...                     ...                   ...              ...            ...                   ...\n",
      "76219  Mar 4, 2025 10:45 PM  Mar 4, 2025 11:00 PM              NaN            NaN                   NaN\n",
      "76220  Mar 4, 2025 11:00 PM  Mar 4, 2025 11:15 PM              NaN            NaN                   NaN\n",
      "76221  Mar 4, 2025 11:15 PM  Mar 4, 2025 11:30 PM              NaN            NaN                   NaN\n",
      "76222  Mar 4, 2025 11:30 PM  Mar 4, 2025 11:45 PM              NaN            NaN                   NaN\n",
      "76223  Mar 4, 2025 11:45 PM  Mar 5, 2025 12:00 AM              NaN            NaN                   NaN\n",
      "\n",
      "[76224 rows x 5 columns]\n"
     ]
    }
   ],
   "source": [
    "# Replace \"-\" with NaN\n",
    "consumption.replace(\"_\", np.nan, inplace=True)\n",
    "\n",
    "#Convert Columns to Numeric\n",
    "consumption[\"total_grid_load\"] = pd.to_numeric(consumption[\"total_grid_load\"], errors=\"coerce\")\n",
    "consumption[\"residual_load\"] = pd.to_numeric(consumption[\"residual_load\"], errors=\"coerce\")\n",
    "consumption[\"hydro_pumped_storage\"] = pd.to_numeric(consumption[\"hydro_pumped_storage\"], errors=\"coerce\")\n",
    "\n",
    "\n",
    "print(consumption)"
   ]
  },
  {
   "cell_type": "code",
   "execution_count": 18,
   "metadata": {},
   "outputs": [
    {
     "name": "stdout",
     "output_type": "stream",
     "text": [
      "start_date               object\n",
      "end_date                 object\n",
      "total_grid_load         float64\n",
      "residual_load           float64\n",
      "hydro_pumped_storage    float64\n",
      "dtype: object\n",
      "Index(['start_date', 'end_date', 'total_grid_load', 'residual_load', 'hydro_pumped_storage'], dtype='object')\n",
      "start_date                  0\n",
      "end_date                    0\n",
      "total_grid_load         76224\n",
      "residual_load           74442\n",
      "hydro_pumped_storage    10158\n",
      "dtype: int64\n"
     ]
    }
   ],
   "source": [
    "print(consumption.dtypes)\n",
    "print(consumption.columns)\n",
    "print(consumption.isna().sum())\n"
   ]
  },
  {
   "cell_type": "code",
   "execution_count": 19,
   "metadata": {},
   "outputs": [
    {
     "name": "stdout",
     "output_type": "stream",
     "text": [
      "start_date                  0\n",
      "end_date                    0\n",
      "total_grid_load         76224\n",
      "residual_load           74442\n",
      "hydro_pumped_storage    10158\n",
      "dtype: int64\n",
      "                 start_date              end_date  total_grid_load  residual_load  hydro_pumped_storage\n",
      "0      Jan 1, 2023 12:00 AM  Jan 1, 2023 12:15 AM              NaN            NaN                494.00\n",
      "1      Jan 1, 2023 12:15 AM  Jan 1, 2023 12:30 AM              NaN            NaN                502.50\n",
      "2      Jan 1, 2023 12:30 AM  Jan 1, 2023 12:45 AM              NaN            NaN                561.00\n",
      "3      Jan 1, 2023 12:45 AM   Jan 1, 2023 1:00 AM              NaN            NaN                519.25\n",
      "4       Jan 1, 2023 1:00 AM   Jan 1, 2023 1:15 AM              NaN            NaN                301.00\n",
      "...                     ...                   ...              ...            ...                   ...\n",
      "76219  Mar 4, 2025 10:45 PM  Mar 4, 2025 11:00 PM              NaN            NaN                   NaN\n",
      "76220  Mar 4, 2025 11:00 PM  Mar 4, 2025 11:15 PM              NaN            NaN                   NaN\n",
      "76221  Mar 4, 2025 11:15 PM  Mar 4, 2025 11:30 PM              NaN            NaN                   NaN\n",
      "76222  Mar 4, 2025 11:30 PM  Mar 4, 2025 11:45 PM              NaN            NaN                   NaN\n",
      "76223  Mar 4, 2025 11:45 PM  Mar 5, 2025 12:00 AM              NaN            NaN                   NaN\n",
      "\n",
      "[76224 rows x 5 columns]\n",
      "                 start_date              end_date  total_grid_load  residual_load  hydro_pumped_storage\n",
      "0      Jan 1, 2023 12:00 AM  Jan 1, 2023 12:15 AM              NaN            NaN                494.00\n",
      "1      Jan 1, 2023 12:15 AM  Jan 1, 2023 12:30 AM              NaN            NaN                502.50\n",
      "2      Jan 1, 2023 12:30 AM  Jan 1, 2023 12:45 AM              NaN            NaN                561.00\n",
      "3      Jan 1, 2023 12:45 AM   Jan 1, 2023 1:00 AM              NaN            NaN                519.25\n",
      "4       Jan 1, 2023 1:00 AM   Jan 1, 2023 1:15 AM              NaN            NaN                301.00\n",
      "...                     ...                   ...              ...            ...                   ...\n",
      "76219  Mar 4, 2025 10:45 PM  Mar 4, 2025 11:00 PM              NaN            NaN                   NaN\n",
      "76220  Mar 4, 2025 11:00 PM  Mar 4, 2025 11:15 PM              NaN            NaN                   NaN\n",
      "76221  Mar 4, 2025 11:15 PM  Mar 4, 2025 11:30 PM              NaN            NaN                   NaN\n",
      "76222  Mar 4, 2025 11:30 PM  Mar 4, 2025 11:45 PM              NaN            NaN                   NaN\n",
      "76223  Mar 4, 2025 11:45 PM  Mar 5, 2025 12:00 AM              NaN            NaN                   NaN\n",
      "\n",
      "[76224 rows x 5 columns]\n"
     ]
    }
   ],
   "source": [
    "print(consumption.isna().sum())  # Shows count of NaN values per column\n",
    "print(consumption[consumption.isna().any(axis=1)])  # Displays rows with NaN values\n",
    "#prices[\"northern_italy\"] = prices[\"northern_italy\"].fillna(prices[\"northern_italy\"].mean())\n",
    "\n",
    "print(consumption)"
   ]
  },
  {
   "cell_type": "code",
   "execution_count": 20,
   "metadata": {},
   "outputs": [
    {
     "name": "stdout",
     "output_type": "stream",
     "text": [
      "0\n",
      "Empty DataFrame\n",
      "Columns: [start_date, end_date, total_grid_load, residual_load, hydro_pumped_storage]\n",
      "Index: []\n"
     ]
    }
   ],
   "source": [
    "print(consumption.index.duplicated().sum())  # Count duplicate timestamps\n",
    "print(consumption[consumption.index.duplicated(keep=False)])  # Show duplicates\n"
   ]
  },
  {
   "cell_type": "code",
   "execution_count": 21,
   "metadata": {},
   "outputs": [
    {
     "name": "stdout",
     "output_type": "stream",
     "text": [
      "           start_date  total_grid_load  residual_load  hydro_pumped_storage\n",
      "0 2023-01-01 00:00:00              0.0            0.0               2076.75\n",
      "1 2023-01-01 01:00:00              0.0            0.0               1767.75\n",
      "2 2023-01-01 02:00:00              0.0         1738.0               3050.25\n",
      "3 2023-01-01 03:00:00              0.0            0.0               3704.00\n",
      "4 2023-01-01 04:00:00              0.0            0.0               3800.75\n"
     ]
    }
   ],
   "source": [
    "# 1. Convert \"Start date\" to datetime (handle errors)\n",
    "consumption[\"start_date\"] = pd.to_datetime(\n",
    "    consumption[\"start_date\"], \n",
    "    format=\"%b %d, %Y %I:%M %p\",  # Add explicit format to avoid warnings\n",
    "    errors='coerce'\n",
    ")\n",
    "\n",
    "# 2. Drop \"End date\" column early\n",
    "consumption.drop(columns=[\"end_date\"], inplace=True)\n",
    "\n",
    "# 3. Set datetime column as index FIRST\n",
    "consumption.set_index(\"start_date\", inplace=True)\n",
    "\n",
    "# 4. Now convert remaining columns to numeric (index is already datetime)\n",
    "consumption = consumption.apply(pd.to_numeric, errors='coerce')\n",
    "#consumption.iloc[:, :] = consumption.iloc[:, :].apply(pd.to_numeric, errors='coerce')\n",
    "\n",
    "#Aggregate Duplicates Before Resampling\n",
    "consumption = consumption.groupby(consumption.index).mean()  # or .sum(), .max()\n",
    "\n",
    "# 5. Resample using the DatetimeIndex\n",
    "#consumption_hourly = consumption.resample('1h').mean()\n",
    "#consumption_hourly = consumption.resample('1h').ffill()  # Forward fill missing values\n",
    "consumption_hourly = consumption.resample('1h').sum()\n",
    "\n",
    "\n",
    "# 6. Reset index if needed (optional)\n",
    "consumption_hourly.reset_index(inplace=True)\n",
    "\n",
    "print(consumption_hourly.head())"
   ]
  },
  {
   "cell_type": "code",
   "execution_count": 22,
   "metadata": {},
   "outputs": [
    {
     "name": "stdout",
     "output_type": "stream",
     "text": [
      "0\n",
      "Empty DataFrame\n",
      "Columns: [total_grid_load, residual_load, hydro_pumped_storage]\n",
      "Index: []\n"
     ]
    }
   ],
   "source": [
    "print(consumption.index.duplicated().sum())  # Count duplicate timestamps\n",
    "print(consumption[consumption.index.duplicated(keep=False)])  # Show duplicates\n"
   ]
  },
  {
   "cell_type": "code",
   "execution_count": 23,
   "metadata": {},
   "outputs": [
    {
     "name": "stdout",
     "output_type": "stream",
     "text": [
      "start_date              datetime64[ns]\n",
      "total_grid_load                float64\n",
      "residual_load                  float64\n",
      "hydro_pumped_storage           float64\n",
      "dtype: object\n",
      "Index(['start_date', 'total_grid_load', 'residual_load', 'hydro_pumped_storage'], dtype='object')\n"
     ]
    }
   ],
   "source": [
    "print(consumption_hourly.dtypes)\n",
    "print(consumption_hourly.columns)"
   ]
  },
  {
   "cell_type": "code",
   "execution_count": 24,
   "metadata": {},
   "outputs": [
    {
     "name": "stdout",
     "output_type": "stream",
     "text": [
      "start_date              0\n",
      "total_grid_load         0\n",
      "residual_load           0\n",
      "hydro_pumped_storage    0\n",
      "dtype: int64\n",
      "Empty DataFrame\n",
      "Columns: [start_date, total_grid_load, residual_load, hydro_pumped_storage]\n",
      "Index: []\n",
      "               start_date  total_grid_load  residual_load  hydro_pumped_storage\n",
      "0     2023-01-01 00:00:00              0.0            0.0               2076.75\n",
      "1     2023-01-01 01:00:00              0.0            0.0               1767.75\n",
      "2     2023-01-01 02:00:00              0.0         1738.0               3050.25\n",
      "3     2023-01-01 03:00:00              0.0            0.0               3704.00\n",
      "4     2023-01-01 04:00:00              0.0            0.0               3800.75\n",
      "...                   ...              ...            ...                   ...\n",
      "19051 2025-03-04 19:00:00              0.0            0.0                  1.50\n",
      "19052 2025-03-04 20:00:00              0.0            0.0                  0.00\n",
      "19053 2025-03-04 21:00:00              0.0            0.0                  0.00\n",
      "19054 2025-03-04 22:00:00              0.0            0.0                  0.00\n",
      "19055 2025-03-04 23:00:00              0.0            0.0                  0.00\n",
      "\n",
      "[19056 rows x 4 columns]\n"
     ]
    }
   ],
   "source": [
    "print(consumption_hourly.isna().sum())  # Shows count of NaN values per column\n",
    "print(consumption_hourly[consumption_hourly.isna().any(axis=1)])  # Displays rows with NaN values\n",
    "#prices[\"northern_italy\"] = prices[\"northern_italy\"].fillna(prices[\"northern_italy\"].mean())\n",
    "\n",
    "print(consumption_hourly)"
   ]
  }
 ],
 "metadata": {
  "kernelspec": {
   "display_name": "germany-energy",
   "language": "python",
   "name": "python3"
  },
  "language_info": {
   "codemirror_mode": {
    "name": "ipython",
    "version": 3
   },
   "file_extension": ".py",
   "mimetype": "text/x-python",
   "name": "python",
   "nbconvert_exporter": "python",
   "pygments_lexer": "ipython3",
   "version": "3.12.2"
  }
 },
 "nbformat": 4,
 "nbformat_minor": 2
}
